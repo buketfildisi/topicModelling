{
  "cells": [
    {
      "cell_type": "markdown",
      "metadata": {
        "id": "view-in-github",
        "colab_type": "text"
      },
      "source": [
        "<a href=\"https://colab.research.google.com/github/buketfildisi/topicModelling/blob/main/Bert_Article_Doc_Optimized.ipynb\" target=\"_parent\"><img src=\"https://colab.research.google.com/assets/colab-badge.svg\" alt=\"Open In Colab\"/></a>"
      ]
    },
    {
      "cell_type": "code",
      "execution_count": null,
      "metadata": {
        "colab": {
          "base_uri": "https://localhost:8080/"
        },
        "id": "ztTKOJkG1dpP",
        "outputId": "54c159e4-5f2c-433e-c55d-07d154d669ca"
      },
      "outputs": [
        {
          "name": "stdout",
          "output_type": "stream",
          "text": [
            "Mounted at /content/drive\n"
          ]
        }
      ],
      "source": [
        "from google.colab import drive\n",
        "drive.mount('/content/drive')"
      ]
    },
    {
      "cell_type": "code",
      "execution_count": null,
      "metadata": {
        "id": "wdz45ZdAqviU"
      },
      "outputs": [],
      "source": [
        "import warnings; warnings.simplefilter('ignore')\n"
      ]
    },
    {
      "cell_type": "code",
      "execution_count": null,
      "metadata": {
        "id": "JfDR6xp52mn7"
      },
      "outputs": [],
      "source": [
        "%%capture\n",
        "!pip install bertopic"
      ]
    },
    {
      "cell_type": "code",
      "execution_count": null,
      "metadata": {
        "colab": {
          "base_uri": "https://localhost:8080/"
        },
        "id": "MKLfO6Q7q7gX",
        "outputId": "0c542225-9d4c-4c39-d980-1c7aec588ce7"
      },
      "outputs": [
        {
          "name": "stdout",
          "output_type": "stream",
          "text": [
            "Requirement already satisfied: umap-learn in /usr/local/lib/python3.10/dist-packages (0.5.5)\n",
            "Requirement already satisfied: numpy>=1.17 in /usr/local/lib/python3.10/dist-packages (from umap-learn) (1.23.5)\n",
            "Requirement already satisfied: scipy>=1.3.1 in /usr/local/lib/python3.10/dist-packages (from umap-learn) (1.11.4)\n",
            "Requirement already satisfied: scikit-learn>=0.22 in /usr/local/lib/python3.10/dist-packages (from umap-learn) (1.2.2)\n",
            "Requirement already satisfied: numba>=0.51.2 in /usr/local/lib/python3.10/dist-packages (from umap-learn) (0.58.1)\n",
            "Requirement already satisfied: pynndescent>=0.5 in /usr/local/lib/python3.10/dist-packages (from umap-learn) (0.5.11)\n",
            "Requirement already satisfied: tqdm in /usr/local/lib/python3.10/dist-packages (from umap-learn) (4.66.1)\n",
            "Requirement already satisfied: llvmlite<0.42,>=0.41.0dev0 in /usr/local/lib/python3.10/dist-packages (from numba>=0.51.2->umap-learn) (0.41.1)\n",
            "Requirement already satisfied: joblib>=0.11 in /usr/local/lib/python3.10/dist-packages (from pynndescent>=0.5->umap-learn) (1.3.2)\n",
            "Requirement already satisfied: threadpoolctl>=2.0.0 in /usr/local/lib/python3.10/dist-packages (from scikit-learn>=0.22->umap-learn) (3.2.0)\n"
          ]
        }
      ],
      "source": [
        "!pip install umap-learn"
      ]
    },
    {
      "cell_type": "code",
      "execution_count": null,
      "metadata": {
        "id": "cQbxl3nk2XmN"
      },
      "outputs": [],
      "source": [
        "import pandas as pd\n",
        "import numpy as np\n",
        "from bertopic import BERTopic\n",
        "from umap import UMAP"
      ]
    },
    {
      "cell_type": "code",
      "execution_count": null,
      "metadata": {
        "id": "JP56PlE72XpD"
      },
      "outputs": [],
      "source": [
        "import nltk\n",
        "import string\n",
        "import re\n",
        "from nltk import word_tokenize\n",
        "from nltk.corpus import stopwords"
      ]
    },
    {
      "cell_type": "code",
      "execution_count": null,
      "metadata": {
        "id": "EIl6L8gr2FU5"
      },
      "outputs": [],
      "source": [
        "\n",
        "docs = pd.read_excel('/content/drive/MyDrive/Colab Notebooks/Dissertation/Docpdfs.xlsx')\n",
        "#,sep=\";\", encoding='cp1252',on_bad_lines='skip')\n",
        "docs"
      ]
    },
    {
      "cell_type": "code",
      "execution_count": null,
      "metadata": {
        "id": "ffC-7Z8y9RNj"
      },
      "outputs": [],
      "source": [
        "x=docs['Context']\n",
        "x"
      ]
    },
    {
      "cell_type": "code",
      "source": [
        "import re\n",
        "def text_Edit(text):\n",
        "  text=re.sub('\\[\\'','',text)\n",
        "  text=re.sub('\\[\\' ','',text)\n",
        "  return text"
      ],
      "metadata": {
        "id": "hoGDeF9xp4xg"
      },
      "execution_count": null,
      "outputs": []
    },
    {
      "cell_type": "code",
      "execution_count": null,
      "metadata": {
        "id": "hPK6ONG02FY7",
        "colab": {
          "base_uri": "https://localhost:8080/",
          "height": 246
        },
        "outputId": "1da0530e-37a3-4142-8c0b-6d5f595182b7"
      },
      "outputs": [
        {
          "output_type": "error",
          "ename": "NameError",
          "evalue": "ignored",
          "traceback": [
            "\u001b[0;31m---------------------------------------------------------------------------\u001b[0m",
            "\u001b[0;31mNameError\u001b[0m                                 Traceback (most recent call last)",
            "\u001b[0;32m<ipython-input-2-55021abee061>\u001b[0m in \u001b[0;36m<cell line: 2>\u001b[0;34m()\u001b[0m\n\u001b[1;32m      1\u001b[0m \u001b[0mnewsletterList\u001b[0m\u001b[0;34m=\u001b[0m\u001b[0;34m[\u001b[0m\u001b[0;34m]\u001b[0m\u001b[0;34m\u001b[0m\u001b[0;34m\u001b[0m\u001b[0m\n\u001b[0;32m----> 2\u001b[0;31m \u001b[0;32mfor\u001b[0m \u001b[0mi\u001b[0m \u001b[0;32min\u001b[0m \u001b[0mrange\u001b[0m\u001b[0;34m(\u001b[0m\u001b[0mlen\u001b[0m\u001b[0;34m(\u001b[0m\u001b[0mdocs\u001b[0m\u001b[0;34m[\u001b[0m\u001b[0;34m'Context'\u001b[0m\u001b[0;34m]\u001b[0m\u001b[0;34m)\u001b[0m\u001b[0;34m)\u001b[0m\u001b[0;34m:\u001b[0m\u001b[0;34m\u001b[0m\u001b[0;34m\u001b[0m\u001b[0m\n\u001b[0m\u001b[1;32m      3\u001b[0m   \u001b[0mprint\u001b[0m\u001b[0;34m(\u001b[0m\u001b[0mi\u001b[0m\u001b[0;34m)\u001b[0m\u001b[0;34m\u001b[0m\u001b[0;34m\u001b[0m\u001b[0m\n\u001b[1;32m      4\u001b[0m   \u001b[0;31m#docs['Context'][i]=re.sub('\\[\\'','',docs['Context'][i])\u001b[0m\u001b[0;34m\u001b[0m\u001b[0;34m\u001b[0m\u001b[0m\n\u001b[1;32m      5\u001b[0m   \u001b[0mnewsletterList\u001b[0m\u001b[0;34m.\u001b[0m\u001b[0mappend\u001b[0m\u001b[0;34m(\u001b[0m\u001b[0mtext_Edit\u001b[0m\u001b[0;34m(\u001b[0m\u001b[0mdocs\u001b[0m\u001b[0;34m[\u001b[0m\u001b[0;34m'Context'\u001b[0m\u001b[0;34m]\u001b[0m\u001b[0;34m[\u001b[0m\u001b[0mi\u001b[0m\u001b[0;34m]\u001b[0m\u001b[0;34m)\u001b[0m\u001b[0;34m)\u001b[0m\u001b[0;34m\u001b[0m\u001b[0;34m\u001b[0m\u001b[0m\n",
            "\u001b[0;31mNameError\u001b[0m: name 'docs' is not defined"
          ]
        }
      ],
      "source": [
        "newsletterList=[]\n",
        "for i in range(len(docs['Context'])):\n",
        "  print(i)\n",
        "  #docs['Context'][i]=re.sub('\\[\\'','',docs['Context'][i])\n",
        "  newsletterList.append(text_Edit(docs['Context'][i]))\n",
        "newsletterList"
      ]
    },
    {
      "cell_type": "code",
      "execution_count": null,
      "metadata": {
        "id": "16w_OILO2Faz"
      },
      "outputs": [],
      "source": [
        "newsletterList"
      ]
    },
    {
      "cell_type": "code",
      "execution_count": null,
      "metadata": {
        "id": "akstLLK5tAe-"
      },
      "outputs": [],
      "source": [
        "from sklearn.feature_extraction.text import CountVectorizer\n",
        "\n",
        "vectorizer_model = CountVectorizer(stop_words=\"english\")"
      ]
    },
    {
      "cell_type": "code",
      "execution_count": null,
      "metadata": {
        "id": "ZQWuYNzn2Fdd"
      },
      "outputs": [],
      "source": [
        "umap_model = UMAP(n_neighbors=15, n_components=5,\n",
        "                  min_dist=0.0, metric='cosine', random_state=42)\n",
        "topic_model = BERTopic(umap_model=umap_model, vectorizer_model=vectorizer_model)"
      ]
    },
    {
      "cell_type": "code",
      "execution_count": null,
      "metadata": {
        "id": "nslTpUpBsgh7"
      },
      "outputs": [],
      "source": [
        "topics, probs = topic_model.fit_transform(newsletterList)"
      ]
    },
    {
      "cell_type": "code",
      "source": [
        "from gensim.models import CoherenceModel\n",
        "from gensim.corpora.dictionary import Dictionary\n",
        "from gensim import corpora\n",
        "from nltk.tokenize import sent_tokenize,word_tokenize\n",
        "import transformers\n",
        "from transformers import BertTokenizerFast"
      ],
      "metadata": {
        "id": "O1qIAQ7bqs_8"
      },
      "execution_count": null,
      "outputs": []
    },
    {
      "cell_type": "code",
      "source": [
        "tokenizer = BertTokenizerFast.from_pretrained(\"bert-base-uncased\")"
      ],
      "metadata": {
        "id": "7wR6Blt6rJPI"
      },
      "execution_count": null,
      "outputs": []
    },
    {
      "cell_type": "code",
      "source": [
        "id2word = corpora.Dictionary([newsletterList])\n",
        "id2word"
      ],
      "metadata": {
        "colab": {
          "base_uri": "https://localhost:8080/"
        },
        "id": "6cLJEH0TqmXa",
        "outputId": "3485af37-c859-4764-89a2-cdae523a4742"
      },
      "execution_count": null,
      "outputs": [
        {
          "output_type": "execute_result",
          "data": {
            "text/plain": [
              "<gensim.corpora.dictionary.Dictionary at 0x7ae39bac0f70>"
            ]
          },
          "metadata": {},
          "execution_count": 34
        }
      ]
    },
    {
      "cell_type": "code",
      "source": [
        "coherence_model_bert = CoherenceModel(model=topic_model, texts=newsletterList, dictionary=id2word, coherence='c_v')\n",
        "coherence_bert = coherence_model_bert.get_coherence()\n",
        "print('\\nCoherence Score: ', coherence_bert)"
      ],
      "metadata": {
        "colab": {
          "base_uri": "https://localhost:8080/"
        },
        "id": "0fkIz2N2qb4x",
        "outputId": "8767aaf4-d442-4ec0-cfb9-8bb741a37c26"
      },
      "execution_count": null,
      "outputs": [
        {
          "output_type": "stream",
          "name": "stdout",
          "text": [
            "\n",
            "Coherence Score:  nan\n"
          ]
        }
      ]
    },
    {
      "cell_type": "code",
      "execution_count": null,
      "metadata": {
        "colab": {
          "background_save": true
        },
        "id": "Q7WDdoR-2Ffo"
      },
      "outputs": [],
      "source": [
        "freq = topic_model.get_topic_info();\n",
        "freq"
      ]
    },
    {
      "cell_type": "code",
      "execution_count": null,
      "metadata": {
        "colab": {
          "background_save": true
        },
        "id": "NKXpifkm2Fh-",
        "outputId": "f48d72ae-7638-43e2-ea07-6bfee7b5ff9d"
      },
      "outputs": [
        {
          "data": {
            "text/plain": [
              "False"
            ]
          },
          "execution_count": 21,
          "metadata": {},
          "output_type": "execute_result"
        }
      ],
      "source": [
        "topic_model.get_topic(0)"
      ]
    },
    {
      "cell_type": "code",
      "execution_count": null,
      "metadata": {
        "colab": {
          "base_uri": "https://localhost:8080/"
        },
        "id": "J5euvb_J2Fkg",
        "outputId": "70c73e30-fcca-4b7e-81d3-e27b9b95a457"
      },
      "outputs": [
        {
          "output_type": "execute_result",
          "data": {
            "text/plain": [
              "[-1, -1, -1, -1, -1, -1, -1, -1, -1, -1]"
            ]
          },
          "metadata": {},
          "execution_count": 39
        }
      ],
      "source": [
        "topic_model.topics_[:10]"
      ]
    },
    {
      "cell_type": "code",
      "execution_count": null,
      "metadata": {
        "id": "-K_G5rxO2FnB"
      },
      "outputs": [],
      "source": [
        "#topic_model.visualize_topics()"
      ]
    },
    {
      "cell_type": "code",
      "execution_count": null,
      "metadata": {
        "id": "3BdCWkO3Wa-9"
      },
      "outputs": [],
      "source": [
        "topic_model.visualize_hierarchy(top_n_topics=20)"
      ]
    },
    {
      "cell_type": "code",
      "execution_count": null,
      "metadata": {
        "id": "yooXB1L4Wmbk"
      },
      "outputs": [],
      "source": [
        "topic_model.visualize_barchart(top_n_topics=20)"
      ]
    },
    {
      "cell_type": "code",
      "execution_count": null,
      "metadata": {
        "id": "7EMZngk3Ww5l"
      },
      "outputs": [],
      "source": [
        "topic_model.visualize_heatmap(n_clusters=2, width=1000, height=1000)"
      ]
    },
    {
      "cell_type": "code",
      "execution_count": null,
      "metadata": {
        "id": "TDYsI-8tWx88"
      },
      "outputs": [],
      "source": [
        "topic_model.visualize_term_rank()"
      ]
    },
    {
      "cell_type": "code",
      "execution_count": null,
      "metadata": {
        "id": "BxQjaOf7XMID"
      },
      "outputs": [],
      "source": [
        "topic_model.update_topics(newsletterList, n_gram_range=(1, 2))"
      ]
    },
    {
      "cell_type": "code",
      "execution_count": null,
      "metadata": {
        "id": "RO4As8gBXMz8",
        "colab": {
          "base_uri": "https://localhost:8080/"
        },
        "outputId": "0d5ebece-7402-45e0-83a2-ae4d14329014"
      },
      "outputs": [
        {
          "output_type": "execute_result",
          "data": {
            "text/plain": [
              "False"
            ]
          },
          "metadata": {},
          "execution_count": 46
        }
      ],
      "source": [
        "topic_model.get_topic(0)"
      ]
    },
    {
      "cell_type": "code",
      "execution_count": null,
      "metadata": {
        "colab": {
          "base_uri": "https://localhost:8080/"
        },
        "id": "gsb2bTpJXM2s",
        "outputId": "93757d9f-c69a-4f35-d9f0-f3c287aca173"
      },
      "outputs": [
        {
          "output_type": "execute_result",
          "data": {
            "text/plain": [
              "<bertopic._bertopic.BERTopic at 0x7ae39b331f00>"
            ]
          },
          "metadata": {},
          "execution_count": 47
        }
      ],
      "source": [
        "topic_model.reduce_topics(newsletterList, nr_topics=60)"
      ]
    },
    {
      "cell_type": "code",
      "execution_count": null,
      "metadata": {
        "id": "wRu-7D9uXM44",
        "colab": {
          "base_uri": "https://localhost:8080/"
        },
        "outputId": "84bf53f4-c405-41e9-caaf-4188389f4731"
      },
      "outputs": [
        {
          "output_type": "stream",
          "name": "stdout",
          "text": [
            "[-1, -1, -1, -1, -1, -1, -1, -1, -1, -1, -1, -1, -1, -1, -1, -1, -1, -1, -1, -1, -1, -1, -1, -1, -1, -1, -1, -1, -1, -1, -1, -1, -1, -1, -1, -1, -1, -1, -1, -1, -1]\n"
          ]
        }
      ],
      "source": [
        "# Access the newly updated topics with:\n",
        "print(topic_model.topics_)"
      ]
    },
    {
      "cell_type": "code",
      "execution_count": null,
      "metadata": {
        "id": "KKAbq5XMXM7Q",
        "colab": {
          "base_uri": "https://localhost:8080/"
        },
        "outputId": "007ed479-50cc-49eb-db62-b7f3be756591"
      },
      "outputs": [
        {
          "output_type": "execute_result",
          "data": {
            "text/plain": [
              "[-1]"
            ]
          },
          "metadata": {},
          "execution_count": 49
        }
      ],
      "source": [
        "similar_topics, similarity = topic_model.find_topics(\"sustainability\", top_n=5); similar_topics"
      ]
    },
    {
      "cell_type": "code",
      "execution_count": null,
      "metadata": {
        "id": "S11t9OegXM9F",
        "colab": {
          "base_uri": "https://localhost:8080/"
        },
        "outputId": "735340e3-24e5-42d0-858e-8f661f4e8a6e"
      },
      "outputs": [
        {
          "output_type": "execute_result",
          "data": {
            "text/plain": [
              "False"
            ]
          },
          "metadata": {},
          "execution_count": 50
        }
      ],
      "source": [
        "topic_model.get_topic(2)"
      ]
    },
    {
      "cell_type": "code",
      "execution_count": null,
      "metadata": {
        "id": "Es1iB31aYN_2",
        "colab": {
          "base_uri": "https://localhost:8080/"
        },
        "outputId": "de9fb198-f95c-4dfe-88d3-f234f439e227"
      },
      "outputs": [
        {
          "output_type": "stream",
          "name": "stdout",
          "text": [
            " international monetary fund | april 2018 xithe global economic outlook has continued to improve, as discussed in the april 2018 world economic outlook, with the pace of economic growth picking up and the recovery becoming more synchronized around the world. while still supportive of economic growth, global financial conditions have tightened somewhat since the october 2017 global financial stability report (gfsr). such a tightening reflects primarily the bout of equity volatility in early february and a decline in risky asset prices at the end of march follow-ing concerns about a wider escalation of protectionist measures.short-term risks to financial stability have increased somewhat relative to the previous gfsr, and medium-term risks continue to be elevated. financial vulner-abilities, which have accumulated during years of extremely low rates and volatility, could make the road ahead bumpy and could put growth at risk. indeed, growth-at-risk analysis (described in chapter 3 of the october 2017 gfsr) shows that risks to medium-term economic growth, stemming from easy financial conditions, remain well above historical norms. in advanced economies, stronger growth momen-tum and the firming of inflation have eased to some extent a key challenge facing central banks: maintain-ing the monetary accommodation required to support the economic recovery while addressing medium-term financial vulnerabilities. but the firming of inflation also brings risks. for example, inflation may pick up faster than currently anticipated, possibly propelled by significant fiscal expansion enacted in the united states. central banks may respond to higher inflation more aggressively than currently expected, which could lead to a sharp tightening of financial conditions. this tightening could spill over to risky asset prices, bank dollar funding markets, and both emerging market economies and low-income countries, as discussed below. to minimize these risks, central banks should continue to normalize monetary policy gradually and communicate their decisions clearly to support the economic recovery.valuations of risky assets are still stretched, with some late-stage credit cycle dynamics emerging, reminiscent of the precrisis period. this makes markets exposed to a sharp tightening in financial conditions, which could lead to a sudden unwinding of risk premi-ums and a repricing of risky assets. moreover, liquidity mismatches and the use of financial leverage to boost returns could amplify the impact of asset price moves on the financial system. although no major disrup-tions were reported during the episode of volatility in early february, market participants should not take too much comfort. investors and policymakers must remain attuned to the risks associated with higher interest rates and greater volatility. policymakers should address financial vulnerabilities by using more actively the micro- and macroprudential tools at their disposal or by enhancing their toolkits as needed—for example, to address risks in the nonbank financial sector.the banking sector has become more resilient since the global financial crisis. however, it is important to ensure that the postcrisis regulatory reform agenda is completed. in advanced economies some weaker banks still need to strengthen their balance sheets, and some institutions operating internationally run dollar liquidity mismatches. a sudden spell of turbulence in financial markets could expose these mismatches and crystallize dollar funding strains. a number of emerging market economies have taken advantage of an extended period of benign exter-nal financial conditions to improve their fundamentals. however, they could be vulnerable to a sudden tight-ening of global financial conditions or spillovers from monetary policy normalization in advanced economies, resulting in an increase in risk aversion and capital flow reversals. the severity of such potential shocks will differ across countries, depending on economic fundamentals and the policy responses to those shocks. although regulators in china have taken steps to address risks stemming from the interconnectedness of the banking and shadow banking sectors, vulnerabili-ties remain high. further regulatory actions are crucial to continue reducing risks in the financial sector. international monetary fund | april 2018 xithe global economic outlook has continued to improve, as discussed in the april 2018 world economic outlook, with the pace of economic growth picking up and the recovery becoming more synchronized around the world. while still supportive of economic growth, global financial conditions have tightened somewhat since the october 2017 global financial stability report (gfsr). such a tightening reflects primarily the bout of equity volatility in early february and a decline in risky asset prices at the end of march follow-ing concerns about a wider escalation of protectionist measures.short-term risks to financial stability have increased somewhat relative to the previous gfsr, and medium-term risks continue to be elevated. financial vulner-abilities, which have accumulated during years of extremely low rates and volatility, could make the road ahead bumpy and could put growth at risk. indeed, growth-at-risk analysis (described in chapter 3 of the october 2017 gfsr) shows that risks to medium-term economic growth, stemming from easy financial conditions, remain well above historical norms. in advanced economies, stronger growth momen-tum and the firming of inflation have eased to some extent a key challenge facing central banks: maintain-ing the monetary accommodation required to support the economic recovery while addressing medium-term financial vulnerabilities. but the firming of inflation also brings risks. for example, inflation may pick up faster than currently anticipated, possibly propelled by significant fiscal expansion enacted in the united states. central banks may respond to higher inflation more aggressively than currently expected, which could lead to a sharp tightening of financial conditions. this tightening could spill over to risky asset prices, bank dollar funding markets, and both emerging market economies and low-income countries, as discussed below. to minimize these risks, central banks should continue to normalize monetary policy gradually and communicate their decisions clearly to support the economic recovery.valuations of risky assets are still stretched, with some late-stage credit cycle dynamics emerging, reminiscent of the precrisis period. this makes markets exposed to a sharp tightening in financial conditions, which could lead to a sudden unwinding of risk premi-ums and a repricing of risky assets. moreover, liquidity mismatches and the use of financial leverage to boost returns could amplify the impact of asset price moves on the financial system. although no major disrup-tions were reported during the episode of volatility in early february, market participants should not take too much comfort. investors and policymakers must remain attuned to the risks associated with higher interest rates and greater volatility. policymakers should address financial vulnerabilities by using more actively the micro- and macroprudential tools at their disposal or by enhancing their toolkits as needed—for example, to address risks in the nonbank financial sector.the banking sector has become more resilient since the global financial crisis. however, it is important to ensure that the postcrisis regulatory reform agenda is completed. in advanced economies some weaker banks still need to strengthen their balance sheets, and some institutions operating internationally run dollar liquidity mismatches. a sudden spell of turbulence in financial markets could expose these mismatches and crystallize dollar funding strains. a number of emerging market economies have taken advantage of an extended period of benign exter-nal financial conditions to improve their fundamentals. however, they could be vulnerable to a sudden tight-ening of global financial conditions or spillovers from monetary policy normalization in advanced economies, resulting in an increase in risk aversion and capital flow reversals. the severity of such potential shocks will differ across countries, depending on economic fundamentals and the policy responses to those shocks. although regulators in china have taken steps to address risks stemming from the interconnectedness of the banking and shadow banking sectors, vulnerabili-ties remain high. further regulatory actions are crucial to continue reducing risks in the financial sector. xii international monetary fund | april 2018global financial stability report: a bumpy road aheadthe technology behind crypto assets has the poten-tial to make the financial market infrastructure more efficient. however, crypto assets have been afflicted by fraud, security breaches, and operational failures, and have been associated with illicit activities. at present, crypto assets do not appear to pose financial stability risks, but they could do so should their use become more widespread without appropriate safeguards.chapter 2 takes a comprehensive look at the evolu-tion of the riskiness of corporate credit allocation, given concerns that the continued search for higher yield may have led banks and investors to extend too much credit to risky borrowers. the chapter docu-ments a pattern in which the firms obtaining more credit are relatively riskier during periods of strong credit expansion, especially when lending standards are loose or financial conditions are easy. an increase in the riskiness of credit allocation signals heightened downside risks to gdp growth and a higher prob-ability of banking stress, in addition to the previously documented signals provided by credit growth. coun-try authorities can use the measures introduced in this chapter to monitor the buildup of vulnerabilities via risk taking in credit allocation. the chapter discusses policies that can mitigate the increase in credit riski-ness during credit expansions. chapter 3 documents a striking increase in house price synchronization among 40 countries and 44 major cities in advanced and emerging market econo-mies over the past several decades. the exposure of countries and cities to global financial conditions may help explain that increase. rising housing valuations since the global financial crisis raise the specter of a simultaneous decline in house prices should financial conditions reverse. the chapter suggests that height-ened synchronicity of house prices can signal a higher probability of adverse scenarios for the real economy, especially when credit is high or rapidly expanding. ']\n",
            "41\n"
          ]
        }
      ],
      "source": [
        "type(newsletterList)\n",
        "print(newsletterList[1])\n",
        "print(len(newsletterList))"
      ]
    },
    {
      "cell_type": "code",
      "execution_count": null,
      "metadata": {
        "id": "_EXvb59Ruwzg"
      },
      "outputs": [],
      "source": [
        "nltk.download('stopwords')\n",
        "stop =stopwords.words('english')\n",
        "stop"
      ]
    },
    {
      "cell_type": "code",
      "execution_count": null,
      "metadata": {
        "colab": {
          "base_uri": "https://localhost:8080/"
        },
        "id": "8zCKQFnny24Y",
        "outputId": "1769a3e5-ec2f-4dc7-e102-c1595350f46b"
      },
      "outputs": [
        {
          "output_type": "execute_result",
          "data": {
            "text/plain": [
              "list"
            ]
          },
          "metadata": {},
          "execution_count": 53
        }
      ],
      "source": [
        "type(stop)"
      ]
    },
    {
      "cell_type": "code",
      "execution_count": null,
      "metadata": {
        "id": "mDmLhlU_y_V2"
      },
      "outputs": [],
      "source": [
        "#filtered_words = ([word for word in newsletterList.split() if word not in stop])\n",
        "#filtered_words\n"
      ]
    },
    {
      "cell_type": "code",
      "execution_count": null,
      "metadata": {
        "id": "KpxBF47qzvPv"
      },
      "outputs": [],
      "source": [
        "noSTP=docs['Context'].apply(lambda x: ' '.join([word for word in x.split() if word not in (stop)]))\n",
        "noSTP\n"
      ]
    },
    {
      "cell_type": "code",
      "source": [
        "noSTP"
      ],
      "metadata": {
        "id": "7n3R5dXft6dI"
      },
      "execution_count": null,
      "outputs": []
    },
    {
      "cell_type": "code",
      "source": [
        "\n",
        "noSTP_newsletter=[]\n",
        "for i in range(len(docs['Context'])):\n",
        "  # print(i)\n",
        "  #docs['Context'][i]=re.sub('\\[\\'','',docs['Context'][i])\n",
        "  noSTP_newsletter.append(text_Edit(noSTP[i]))\n",
        "noSTP_newsletter"
      ],
      "metadata": {
        "id": "xfpXyV5ktaYg"
      },
      "execution_count": null,
      "outputs": []
    },
    {
      "cell_type": "code",
      "execution_count": null,
      "metadata": {
        "id": "kGXlgD4Z4POm"
      },
      "outputs": [],
      "source": [
        "newsletterList[2].split()"
      ]
    },
    {
      "cell_type": "code",
      "execution_count": null,
      "metadata": {
        "id": "kFDX5S_w4U3V"
      },
      "outputs": [],
      "source": [
        "test=[]\n",
        "for x in newsletterList:\n",
        "  words=x.split()\n",
        "  for i in range(len(words)):\n",
        "      test.append(words[i])\n",
        "words = pd.DataFrame(test, columns =['words'])\n",
        "words['numbers']=''\n",
        "words=words.groupby('words').count().sort_values('numbers',ascending=False).reset_index()\n",
        "words\n"
      ]
    },
    {
      "cell_type": "code",
      "execution_count": null,
      "metadata": {
        "id": "K3GAK1nc47lA"
      },
      "outputs": [],
      "source": [
        "testnostp=[]\n",
        "for x in noSTP_newsletter:\n",
        "  words=x.split()\n",
        "  for i in range(len(words)):\n",
        "      testnostp.append(words[i])\n",
        "wordsNoStop = pd.DataFrame(testnostp, columns =['words'])\n",
        "wordsNoStop['numbers']=''\n",
        "wordsNoStop=wordsNoStop.groupby('words').count().sort_values('numbers',ascending=False).reset_index()\n",
        "wordsNoStop"
      ]
    },
    {
      "cell_type": "code",
      "source": [
        "for i in range(len(newsletterList)):\n",
        "  for j in range(len(newsletterList[i])):\n",
        "    print(newsletterList[i][j])"
      ],
      "metadata": {
        "id": "6sFB7FOiylSp"
      },
      "execution_count": null,
      "outputs": []
    },
    {
      "cell_type": "code",
      "execution_count": null,
      "metadata": {
        "id": "xNvHRC9G47oB",
        "colab": {
          "base_uri": "https://localhost:8080/",
          "height": 280
        },
        "outputId": "6f3b289f-8cc9-4dc9-a653-df1a4fa55139"
      },
      "outputs": [
        {
          "output_type": "stream",
          "name": "stderr",
          "text": [
            "[nltk_data] Downloading package punkt to /root/nltk_data...\n",
            "[nltk_data]   Unzipping tokenizers/punkt.zip.\n"
          ]
        },
        {
          "output_type": "error",
          "ename": "NameError",
          "evalue": "ignored",
          "traceback": [
            "\u001b[0;31m---------------------------------------------------------------------------\u001b[0m",
            "\u001b[0;31mNameError\u001b[0m                                 Traceback (most recent call last)",
            "\u001b[0;32m<ipython-input-1-970c5bdefa2d>\u001b[0m in \u001b[0;36m<cell line: 11>\u001b[0;34m()\u001b[0m\n\u001b[1;32m      9\u001b[0m \u001b[0;34m\u001b[0m\u001b[0m\n\u001b[1;32m     10\u001b[0m \u001b[0;31m# Tokenize the document into sentences\u001b[0m\u001b[0;34m\u001b[0m\u001b[0;34m\u001b[0m\u001b[0m\n\u001b[0;32m---> 11\u001b[0;31m \u001b[0msentences\u001b[0m \u001b[0;34m=\u001b[0m \u001b[0msent_tokenize\u001b[0m\u001b[0;34m(\u001b[0m\u001b[0mnewsletterList\u001b[0m\u001b[0;34m)\u001b[0m\u001b[0;34m\u001b[0m\u001b[0;34m\u001b[0m\u001b[0m\n\u001b[0m\u001b[1;32m     12\u001b[0m \u001b[0;34m\u001b[0m\u001b[0m\n\u001b[1;32m     13\u001b[0m \u001b[0;31m# Print the result\u001b[0m\u001b[0;34m\u001b[0m\u001b[0;34m\u001b[0m\u001b[0m\n",
            "\u001b[0;31mNameError\u001b[0m: name 'newsletterList' is not defined"
          ]
        }
      ],
      "source": [
        "import nltk\n",
        "from nltk.tokenize import sent_tokenize\n",
        "\n",
        "# Download the NLTK sentence tokenizer data\n",
        "nltk.download('punkt')\n",
        "\n",
        "# Your document\n",
        "document = \"Tokenization is a key step in NLP. It helps machines understand human language. Sentences have meaning.\"\n",
        "\n",
        "# Tokenize the document into sentences\n",
        "sentences = sent_tokenize(newsletterList)\n",
        "\n",
        "# Print the result\n",
        "for sentence in sentences:\n",
        "    print(sentence)\n"
      ]
    },
    {
      "cell_type": "code",
      "execution_count": null,
      "metadata": {
        "id": "lEIHxUDZ47qq"
      },
      "outputs": [],
      "source": [
        "words"
      ]
    },
    {
      "cell_type": "code",
      "execution_count": null,
      "metadata": {
        "id": "XicSm1xI47tT"
      },
      "outputs": [],
      "source": []
    }
  ],
  "metadata": {
    "colab": {
      "provenance": [],
      "authorship_tag": "ABX9TyPXdqIVU9pIKv9MCqsnSXnu",
      "include_colab_link": true
    },
    "kernelspec": {
      "display_name": "Python 3",
      "name": "python3"
    },
    "language_info": {
      "name": "python"
    }
  },
  "nbformat": 4,
  "nbformat_minor": 0
}